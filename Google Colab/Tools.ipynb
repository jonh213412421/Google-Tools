{
  "cells": [
    {
      "cell_type": "markdown",
      "metadata": {
        "id": "view-in-github",
        "colab_type": "text"
      },
      "source": [
        "<a href=\"https://colab.research.google.com/github/jonh213412421/Google-Tools/blob/main/Google%20Colab/Tools.ipynb\" target=\"_parent\"><img src=\"https://colab.research.google.com/assets/colab-badge.svg\" alt=\"Open In Colab\"/></a>"
      ]
    },
    {
      "cell_type": "markdown",
      "metadata": {
        "id": "0Z2ShUq3UPDH"
      },
      "source": [
        "# **Direct**"
      ]
    },
    {
      "cell_type": "markdown",
      "source": [
        "# **Navegador**"
      ],
      "metadata": {
        "id": "iky4wQdx50do"
      }
    },
    {
      "cell_type": "code",
      "source": [
        "!pip install beautifulsoup4"
      ],
      "metadata": {
        "id": "-C05m1GQ57LP"
      },
      "execution_count": null,
      "outputs": []
    },
    {
      "cell_type": "markdown",
      "source": [
        "**Curl**"
      ],
      "metadata": {
        "id": "bvpAoRhEe4wB"
      }
    },
    {
      "cell_type": "code",
      "source": [
        "import subprocess\n",
        "from bs4 import BeautifulSoup\n",
        "\n",
        "#curl para site\n",
        "#erros de char podem ocorrer. É só insisir.\n",
        "html = \"\"\n",
        "resposta = subprocess.Popen([\"curl\", \"https:/\"], stdout=subprocess.PIPE, stderr=subprocess.PIPE, text=True)\n",
        "for line in resposta.stdout.readlines():\n",
        "  html += line\n",
        "soup = BeautifulSoup(html, \"html.parser\")\n",
        "print(soup.prettify())"
      ],
      "metadata": {
        "id": "NG2xdJQJex5S"
      },
      "execution_count": null,
      "outputs": []
    },
    {
      "cell_type": "markdown",
      "source": [
        "**Requests**"
      ],
      "metadata": {
        "id": "lXxlsYM9fB3x"
      }
    },
    {
      "cell_type": "code",
      "source": [
        "import requests\n",
        "from bs4 import BeautifulSoup\n",
        "#olhar urllib\n",
        "\n",
        "#requests para site\n",
        "#digitar endereço com https\n",
        "resposta = requests.get(\"https://libgen.li/file.php?md5=79fe1f4fec046c8a3b587ad6845c7f2aI\")\n",
        "soup = BeautifulSoup(resposta.text, \"html.parser\")\n",
        "print(soup.prettify())"
      ],
      "metadata": {
        "id": "0ngxL_mk3GG9"
      },
      "execution_count": null,
      "outputs": []
    },
    {
      "cell_type": "markdown",
      "metadata": {
        "id": "p_GXeOcYytUH"
      },
      "source": [
        "# **Downloader**"
      ]
    },
    {
      "cell_type": "code",
      "execution_count": null,
      "metadata": {
        "id": "tiVfrovjGIMk"
      },
      "outputs": [],
      "source": [
        "!pip install requests\n",
        "!pip install pycryptodomex\n",
        "from google.colab import drive\n",
        "drive.mount('/content/drive')"
      ]
    },
    {
      "cell_type": "markdown",
      "source": [
        "**Urllib**"
      ],
      "metadata": {
        "id": "GA51AEx15t45"
      }
    },
    {
      "cell_type": "code",
      "execution_count": null,
      "metadata": {
        "id": "-YIy0QV9yuyf",
        "colab": {
          "base_uri": "https://localhost:8080/"
        },
        "outputId": "bcb4efb7-d190-403e-a377-a8de6de03e7a"
      },
      "outputs": [
        {
          "output_type": "execute_result",
          "data": {
            "text/plain": [
              "('/content/drive/MyDrive/dw/livro.pdf',\n",
              " <http.client.HTTPMessage at 0x7fba55e8fa30>)"
            ]
          },
          "metadata": {},
          "execution_count": 73
        }
      ],
      "source": [
        "#montar drive antes\n",
        "#urllib funciona para php\n",
        "import urllib.request\n",
        "\n",
        "#pelo urllib\n",
        "#inserir link\n",
        "link = \"\"\n",
        "#caminho do arquivo // adicionar nome e extensão a /content/drive/MyDrive/dw/\n",
        "caminho_arquivo = \"/content/drive/MyDrive/dw/\"\n",
        "\n",
        "#inserir link\n",
        "try:\n",
        "  urllib.request.urlretrieve(link, caminho_arquivo)\n",
        "  print(\"Download concluído com sucesso!\")\n",
        "except Exception as e:\n",
        "  print(f\"Ocorreu um erro durante o download: {str(e)}\")"
      ]
    },
    {
      "cell_type": "markdown",
      "source": [
        "**Requests**"
      ],
      "metadata": {
        "id": "_WlOP8jc5w4B"
      }
    },
    {
      "cell_type": "code",
      "source": [
        "#montar drive antes\n",
        "import requests\n",
        "\n",
        "#pelo request\n",
        "link = \"\"\n",
        "caminho do arquivo // ajustar a extensão também\n",
        "caminho_arquivo = \"/content/drive/MyDrive/dw/livro.pdf\"\n",
        "try:\n",
        "  resposta = requests.get(link)\n",
        "  with open(caminho_arquivo, \"wb\") as arquivo:\n",
        "    arquivo.write(resposta.content)\n",
        "  print(\"Download concluído com sucesso!\")\n",
        "except Exception as e:\n",
        "  print(f\"Ocorreu um erro durante o download: {str(e)}\")"
      ],
      "metadata": {
        "id": "dR8qpZAIhyw6"
      },
      "execution_count": null,
      "outputs": []
    },
    {
      "cell_type": "markdown",
      "source": [
        "**Cria chave para criptografia**\n",
        "\n"
      ],
      "metadata": {
        "id": "zINi6TJZ-xIz"
      }
    },
    {
      "cell_type": "code",
      "source": [
        "import random\n",
        "from Cryptodome.Random import get_random_bytes\n",
        "from Cryptodome.Protocol.KDF import PBKDF2\n",
        "import os\n",
        "\n",
        "id_num = random.randint(1, 999)\n",
        "salt = get_random_bytes(16)\n",
        "password = input(\"password: \")\n",
        "chave = PBKDF2(salt, password, dkLen=32)\n",
        "path_chaves = '/content/drive/MyDrive/chaves'\n",
        "\n",
        "if not os.path.exists(path_chaves):\n",
        "  os.mkdir(path_chaves)\n",
        "with open(os.path.join(path_chaves, f\"chave_{id_num}.enc\"), \"wb\") as f:\n",
        "  f.write(chave)\n",
        "chave_path = os.path.join(path_chaves, f\"chave_{id_num}.enc\")\n",
        "print(\"chave gerada\")\n",
        "print(f\"caminho da chave: {chave_path}\")\n",
        "print(f\"id da chave: {id_num}\")"
      ],
      "metadata": {
        "colab": {
          "base_uri": "https://localhost:8080/"
        },
        "id": "h3WYoupE7rRK",
        "outputId": "c728f3d8-5a2c-4acb-ceaf-5b85387b2d87"
      },
      "execution_count": null,
      "outputs": [
        {
          "output_type": "stream",
          "name": "stdout",
          "text": [
            "password: 123321\n",
            "chave gerada\n",
            "caminho da chave: /content/drive/MyDrive/chaves/chave_360.enc\n",
            "id da chave: 360\n"
          ]
        }
      ]
    },
    {
      "cell_type": "markdown",
      "source": [
        "**Criptografa arquivo**"
      ],
      "metadata": {
        "id": "S6toWN-N-7OL"
      }
    },
    {
      "cell_type": "code",
      "source": [
        "import random\n",
        "import shutil\n",
        "import struct\n",
        "from Cryptodome.Cipher import AES\n",
        "from Cryptodome.Random import get_random_bytes\n",
        "from Cryptodome.Protocol.KDF import PBKDF2\n",
        "import os\n",
        "\n",
        "if not os.path.exists(\"/content/drive/MyDrive/dw/encrypt\"):\n",
        "  os.mkdir(\"/content/drive/MyDrive/dw/encrypt\")\n",
        "\n",
        "num_chave = input(\"qual é o id da chave? \")\n",
        "\n",
        "chunk_size = 16 * 1024 * 1024\n",
        "\n",
        "with open(f\"/content/drive/MyDrive/chaves/chave_{num_chave}.enc\", \"rb\") as f:\n",
        "  chave = f.read()\n",
        "\n",
        "iv = get_random_bytes(16)\n",
        "encryptor = AES.new(chave, AES.MODE_CBC, iv=iv)\n",
        "#inserir nome do arquivo em ...\n",
        "arquivo = f'/content/drive/MyDrive/dw/encrypt/'\n",
        "nome_arquivo = os.listdir(arquivo)[0]\n",
        "shutil.make_archive(f'/content/drive/MyDrive/dw/tf_{num_chave}', \"zip\", arquivo)\n",
        "arquivo_zip = f'/content/drive/MyDrive/dw/tf_{num_chave}.zip'\n",
        "filesize = os.path.getsize(arquivo_zip)\n",
        "\n",
        "with open(arquivo_zip, \"rb\") as f:\n",
        "  with open(f\"/content/drive/MyDrive/dw/encrypt/tf_{id_num}.enc\", \"wb\") as f2:\n",
        "    f2.write(struct.pack('<Q', filesize))\n",
        "    f2.write(iv)\n",
        "    while True:\n",
        "      chunk = f.read(chunk_size)\n",
        "      if not chunk:\n",
        "        break\n",
        "      if len(chunk) % 16 != 0:\n",
        "        chunk += b\" \" * (16 - len(chunk) % 16)\n",
        "      f2.write(encryptor.encrypt(chunk))\n",
        "\n",
        "  if os.path.exists(arquivo_zip):\n",
        "    os.remove(arquivo_zip)\n",
        "  if os.path.exists(arquivo):\n",
        "    os.remove(f'/content/drive/MyDrive/dw/encrypt/{nome_arquivo}')\n",
        "  print(\"proteja a chave\")\n",
        "  print(\"arquivo salvo\")"
      ],
      "metadata": {
        "colab": {
          "base_uri": "https://localhost:8080/"
        },
        "collapsed": true,
        "id": "QGqqHUOr-_ND",
        "outputId": "da03906d-d990-4a3d-b278-2488b6a2e730"
      },
      "execution_count": null,
      "outputs": [
        {
          "output_type": "stream",
          "name": "stdout",
          "text": [
            "qual é o id da chave? 360\n",
            "proteja a chave\n",
            "arquivo salvo\n"
          ]
        }
      ]
    },
    {
      "cell_type": "markdown",
      "source": [
        "**Descriptografa arquivo**"
      ],
      "metadata": {
        "id": "Jgl4uJu5C__g"
      }
    },
    {
      "cell_type": "code",
      "source": [
        "import os\n",
        "from Cryptodome.Cipher import AES\n",
        "from Cryptodome.Random import get_random_bytes\n",
        "from Cryptodome.Protocol.KDF import PBKDF2\n",
        "import struct\n",
        "from google.colab import files\n",
        "\n",
        "print(\"preparando arquivo\")\n",
        "num_chave = input(\"qual é o número da chave\")\n",
        "chave_path = f\"/content/drive/MyDrive/chaves/chave_{num_chave}.enc\"\n",
        "chunk_size = 16 * 1024 * 1024\n",
        "with open(chave_path, \"rb\") as f:\n",
        "  chave = f.read()\n",
        "\n",
        "arquivo = f\"/content/drive/MyDrive/dw/encrypt/tf_{num_chave}.enc\"\n",
        "out_filename = f\"/content/drive/MyDrive/dw/encrypt/tf_{num_chave}.zip\"\n",
        "out_dir = f\"/content/drive/MyDrive/dw/encrypt\"\n",
        "\n",
        "with open(arquivo, \"rb\") as f:\n",
        "  original_size = struct.unpack('<Q', f.read(struct.calcsize('Q')))[0]\n",
        "  iv = f.read(16)\n",
        "  decryptor = AES.new(chave, AES.MODE_CBC, iv=iv)\n",
        "  with open(out_filename, \"wb\") as f2:\n",
        "    while True:\n",
        "      chunk = f.read(chunk_size)\n",
        "      if len(chunk) == 0:\n",
        "        break\n",
        "      f2.write(decryptor.decrypt(chunk))\n",
        "    f2.truncate(original_size)\n",
        "print(\"arquivo pronto.\")\n",
        "\n",
        "if os.path.exists(arquivo):\n",
        "  os.remove(f'/content/drive/MyDrive/dw/encrypt/{nome_arquivo}.enc')"
      ],
      "metadata": {
        "colab": {
          "base_uri": "https://localhost:8080/"
        },
        "id": "g9tTTdgKDHKI",
        "outputId": "04a56fba-5289-4dff-cbd6-df5e3dafba2d"
      },
      "execution_count": null,
      "outputs": [
        {
          "output_type": "stream",
          "name": "stdout",
          "text": [
            "preparando arquivo\n",
            "qual é o número da chave360\n",
            "arquivo pronto.\n"
          ]
        }
      ]
    },
    {
      "cell_type": "markdown",
      "metadata": {
        "id": "3hIrosalwFQT"
      },
      "source": [
        "# **Torrent**"
      ]
    },
    {
      "cell_type": "markdown",
      "source": [
        "## **Downloader**"
      ],
      "metadata": {
        "id": "MIV4MmTId2mw"
      }
    },
    {
      "cell_type": "code",
      "source": [
        "!pip install libtorrent\n",
        "!pip install torrentp\n",
        "!pip install beautifulsoup4\n",
        "from google.colab import drive\n",
        "drive.mount('/content/drive')\n",
        "!pip install pycryptodomex"
      ],
      "metadata": {
        "id": "4ei-uB4pEExU"
      },
      "execution_count": null,
      "outputs": []
    },
    {
      "cell_type": "code",
      "source": [
        "#sem usar thread, ele encerra o processo antes\n",
        "import asyncio\n",
        "import threading\n",
        "from torrentp import TorrentDownloader\n",
        "\n",
        "# Cria função assíncrona para baixar o torrent\n",
        "async def download_torrent():\n",
        "    #cole o magnet\n",
        "    magnet_link = \"magnet:?xt=urn:btih:173AD72DA99EB9D220178B4C8560DEE60A2CED42&dn=Complete+Diablo+e-book+collection&tr=http%3A%2F%2Fp4p.arenabg.com%3A1337%2Fannounce&tr=udp%3A%2F%2F47.ip-51-68-199.eu%3A6969%2Fannounce&tr=udp%3A%2F%2F9.rarbg.me%3A2780%2Fannounce&tr=udp%3A%2F%2F9.rarbg.to%3A2710%2Fannounce&tr=udp%3A%2F%2F9.rarbg.to%3A2730%2Fannounce&tr=udp%3A%2F%2F9.rarbg.to%3A2920%2Fannounce&tr=udp%3A%2F%2Fopen.stealth.si%3A80%2Fannounce&tr=udp%3A%2F%2Fopentracker.i2p.rocks%3A6969%2Fannounce&tr=udp%3A%2F%2Ftracker.coppersurfer.tk%3A6969%2Fannounce&tr=udp%3A%2F%2Ftracker.cyberia.is%3A6969%2Fannounce&tr=udp%3A%2F%2Ftracker.dler.org%3A6969%2Fannounce&tr=udp%3A%2F%2Ftracker.internetwarriors.net%3A1337%2Fannounce&tr=udp%3A%2F%2Ftracker.leechers-paradise.org%3A6969%2Fannounce&tr=udp%3A%2F%2Ftracker.openbittorrent.com%3A6969%2Fannounce&tr=udp%3A%2F%2Ftracker.opentrackr.org%3A1337&tr=udp%3A%2F%2Ftracker.pirateparty.gr%3A6969%2Fannounce&tr=udp%3A%2F%2Ftracker.tiny-vps.com%3A6969%2Fannounce&tr=udp%3A%2F%2Ftracker.torrent.eu.org%3A451%2Fannounce\"\n",
        "    #pode editar o diretório de destino\n",
        "    destination_folder = \"/content/drive/MyDrive/dw/test\"\n",
        "\n",
        "    torrent_file = TorrentDownloader(magnet_link, destination_folder)\n",
        "\n",
        "    #printa \"começando download\"\n",
        "    print(\"Começando download...\")\n",
        "\n",
        "    try:\n",
        "        # espera fim de download\n",
        "        await torrent_file.start_download()\n",
        "        print(\"Download completed successfully.\")\n",
        "    except Exception as e:\n",
        "        #exception\n",
        "        print(f\"Download failed with error: {str(e)}\")\n",
        "\n",
        "# roda tareefas async em uma thread\n",
        "def run_download_na_thread():\n",
        "    def thread_function():\n",
        "        # Get the current event loop and run the download coroutine\n",
        "        loop = asyncio.new_event_loop()  # Create a new event loop for this thread\n",
        "        asyncio.set_event_loop(loop)  # Set the new loop as the current one\n",
        "        loop.run_until_complete(download_torrent())  # Roda tarefa em async\n",
        "\n",
        "    #thread\n",
        "    download_thread = threading.Thread(target=thread_function)\n",
        "    download_thread.start()\n",
        "    download_thread.join()  #espera a thread acabar - impede o fluxo de terminar\n",
        "\n",
        "# roda a função\n",
        "run_download_na_thread()\n"
      ],
      "metadata": {
        "colab": {
          "base_uri": "https://localhost:8080/"
        },
        "id": "RPMNxLwJHEx9",
        "outputId": "ee3b0fd1-d62e-45a4-e711-070619f17832"
      },
      "execution_count": null,
      "outputs": [
        {
          "output_type": "stream",
          "name": "stdout",
          "text": [
            "Começando download...\n",
            "\u001b[42m 0.0 Kb/s \u001b[0m|\u001b[46m up: 0.0 Kb/s \u001b[0m| status: downloading | peers: 0  \u001b[96m|#                   |\u001b[0m 4%\u001b[95mSaving as: Blizzard Books - Diablo\u001b[0m\n",
            "\u001b[42m 0.0 Kb/s \u001b[0m|\u001b[46m up: 0.0 Kb/s \u001b[0m| status: downloading | peers: 0  \u001b[96m|#####               |\u001b[0m 21%\u001b[92m\n",
            "Downloaded successfully.\u001b[0m\n",
            "Download completed successfully.\n",
            "\u001b[42m 0.1 Kb/s \u001b[0m|\u001b[46m up: 0.2 Kb/s \u001b[0m| status: downloading | peers: 1  \u001b[96m|#####               |\u001b[0m 21%"
          ]
        }
      ]
    },
    {
      "cell_type": "markdown",
      "source": [
        "**Cria chave para criptografia**"
      ],
      "metadata": {
        "id": "M4PlBfHRKJfH"
      }
    },
    {
      "cell_type": "code",
      "source": [
        "import random\n",
        "from Cryptodome.Random import get_random_bytes\n",
        "from Cryptodome.Protocol.KDF import PBKDF2\n",
        "import os\n",
        "\n",
        "id_num = random.randint(1, 999)\n",
        "salt = get_random_bytes(16)\n",
        "password = input(\"password: \")\n",
        "chave = PBKDF2(salt, password, dkLen=32)\n",
        "path_chaves = '/content/drive/MyDrive/chaves'\n",
        "\n",
        "if not os.path.exists(path_chaves):\n",
        "  os.mkdir(path_chaves)\n",
        "with open(os.path.join(path_chaves, f\"chave_{id_num}.enc\"), \"wb\") as f:\n",
        "  f.write(chave)\n",
        "chave_path = os.path.join(path_chaves, f\"chave_{id_num}.enc\")\n",
        "print(\"chave gerada\")\n",
        "print(f\"caminho da chave: {chave_path}\")\n",
        "print(f\"id da chave: {id_num}\")"
      ],
      "metadata": {
        "id": "1zORS58NKH5P"
      },
      "execution_count": null,
      "outputs": []
    },
    {
      "cell_type": "markdown",
      "source": [
        "**Criptografa arquivo**"
      ],
      "metadata": {
        "id": "JHPhfML8KSKf"
      }
    },
    {
      "cell_type": "code",
      "source": [
        "import random\n",
        "import shutil\n",
        "import struct\n",
        "from Cryptodome.Cipher import AES\n",
        "from Cryptodome.Random import get_random_bytes\n",
        "from Cryptodome.Protocol.KDF import PBKDF2\n",
        "import os\n",
        "\n",
        "if not os.path.exists(\"/content/drive/MyDrive/dw/encrypt\"):\n",
        "  os.mkdir(\"/content/drive/MyDrive/dw/encrypt\")\n",
        "\n",
        "num_chave = input(\"qual é o id da chave? \")\n",
        "\n",
        "chunk_size = 16 * 1024 * 1024\n",
        "\n",
        "with open(f\"/content/drive/MyDrive/chaves/chave_{num_chave}.enc\", \"rb\") as f:\n",
        "  chave = f.read()\n",
        "\n",
        "iv = get_random_bytes(16)\n",
        "encryptor = AES.new(chave, AES.MODE_CBC, iv=iv)\n",
        "#inserir nome do arquivo em ...\n",
        "arquivo = f'/content/drive/MyDrive/dw/encrypt/'\n",
        "nome_arquivo = os.listdir(arquivo)[0]\n",
        "shutil.make_archive(f'/content/drive/MyDrive/dw/tf_{num_chave}', \"zip\", arquivo)\n",
        "arquivo_zip = f'/content/drive/MyDrive/dw/tf_{num_chave}.zip'\n",
        "filesize = os.path.getsize(arquivo_zip)\n",
        "\n",
        "with open(arquivo_zip, \"rb\") as f:\n",
        "  with open(f\"/content/drive/MyDrive/dw/encrypt/tf_{id_num}.enc\", \"wb\") as f2:\n",
        "    f2.write(struct.pack('<Q', filesize))\n",
        "    f2.write(iv)\n",
        "    while True:\n",
        "      chunk = f.read(chunk_size)\n",
        "      if not chunk:\n",
        "        break\n",
        "      if len(chunk) % 16 != 0:\n",
        "        chunk += b\" \" * (16 - len(chunk) % 16)\n",
        "      f2.write(encryptor.encrypt(chunk))\n",
        "\n",
        "  if os.path.exists(arquivo_zip):\n",
        "    os.remove(arquivo_zip)\n",
        "  if os.path.exists(arquivo):\n",
        "    os.remove(f'/content/drive/MyDrive/dw/encrypt/{nome_arquivo}')\n",
        "  print(\"proteja a chave\")\n",
        "  print(\"arquivo salvo\")"
      ],
      "metadata": {
        "id": "Ge-iX8naKb73"
      },
      "execution_count": null,
      "outputs": []
    },
    {
      "cell_type": "markdown",
      "source": [
        "**Descriptografa arquivo**"
      ],
      "metadata": {
        "id": "fL5MlBm3Kh2I"
      }
    },
    {
      "cell_type": "code",
      "source": [
        "import os\n",
        "from Cryptodome.Cipher import AES\n",
        "from Cryptodome.Random import get_random_bytes\n",
        "from Cryptodome.Protocol.KDF import PBKDF2\n",
        "import struct\n",
        "from google.colab import files\n",
        "import time\n",
        "\n",
        "print(\"preparando arquivo\")\n",
        "num_chave = input(\"qual é o número da chave\")\n",
        "chave_path = f\"/content/drive/MyDrive/chaves/chave_{num_chave}.enc\"\n",
        "chunk_size = 16 * 1024 * 1024\n",
        "with open(chave_path, \"rb\") as f:\n",
        "  chave = f.read()\n",
        "\n",
        "arquivo = f\"/content/drive/MyDrive/dw/encrypt/tf_{num_chave}.enc\"\n",
        "out_filename = f\"/content/drive/MyDrive/dw/encrypt/tf_{num_chave}.zip\"\n",
        "out_dir = f\"/content/drive/MyDrive/dw/encrypt\"\n",
        "\n",
        "with open(arquivo, \"rb\") as f:\n",
        "  original_size = struct.unpack('<Q', f.read(struct.calcsize('Q')))[0]\n",
        "  iv = f.read(16)\n",
        "  decryptor = AES.new(chave, AES.MODE_CBC, iv=iv)\n",
        "  with open(out_filename, \"wb\") as f2:\n",
        "    while True:\n",
        "      chunk = f.read(chunk_size)\n",
        "      if len(chunk) == 0:\n",
        "        break\n",
        "      f2.write(decryptor.decrypt(chunk))\n",
        "    f2.truncate(original_size)\n",
        "print(\"arquivo pronto.\")\n",
        "\n",
        "if os.path.exists(arquivo):\n",
        "  os.remove(f'/content/drive/MyDrive/dw/encrypt/{nome_arquivo}.enc')\n"
      ],
      "metadata": {
        "id": "XAbpBxMRKk44"
      },
      "execution_count": null,
      "outputs": []
    }
  ],
  "metadata": {
    "colab": {
      "provenance": [],
      "include_colab_link": true
    },
    "kernelspec": {
      "display_name": "Python 3",
      "name": "python3"
    }
  },
  "nbformat": 4,
  "nbformat_minor": 0
}